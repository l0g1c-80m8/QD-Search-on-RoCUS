{
 "cells": [
  {
   "cell_type": "code",
   "execution_count": 1,
   "metadata": {
    "collapsed": true
   },
   "outputs": [],
   "source": [
    "from matplotlib import pyplot as plt\n",
    "import numpy as np"
   ]
  },
  {
   "cell_type": "code",
   "execution_count": 2,
   "outputs": [],
   "source": [
    "import math\n",
    "\n",
    "def evaluate_traj_length(traj):\n",
    "    if traj is None:\n",
    "        return 10.0\n",
    "    path_length = 0\n",
    "    for idx in range(1, traj.size // 2):\n",
    "        path_length += math.pow(\n",
    "            math.pow(traj[idx , 0] - traj[idx - 1 , 0], 2) + math.pow(traj[idx, 1] - traj[idx - 1, 1], 2),\n",
    "            0.5\n",
    "        )\n",
    "    return path_length\n",
    "\n",
    "def evaluate_env_free_space(env):\n",
    "    return 100 * np.count_nonzero((env.arena.occ_grid == 0) == True) / env.arena.occ_grid.size\n",
    "\n",
    "def evaluate_num_of_obstacles(env):\n",
    "    obstacle_count = 0\n",
    "    grid = env.arena.occ_grid\n",
    "    for row_idx in range(len(grid)):\n",
    "\n",
    "        for col_idx in range(len(grid[row_idx])):\n",
    "            if grid[row_idx, col_idx] == 1:\n",
    "                locs_to_check = np.array(\n",
    "                    np.meshgrid(\n",
    "                        np.array([row_idx - 1, row_idx, row_idx + 1]),\n",
    "                        np.array([col_idx - 1, col_idx, col_idx + 1])\n",
    "                    )).T.reshape(-1,2)\n",
    "                for location in locs_to_check:\n",
    "                    if location[0] < 0 \\\n",
    "                        or location[0] > len(grid) - 1 \\\n",
    "                        or location[1] < 0 \\\n",
    "                        or location[1] > len(grid[row_idx]) - 1 \\\n",
    "                        or (location[0], location[1]) == (row_idx, col_idx):\n",
    "                            continue\n",
    "                    if grid[location[0], location[1]] != 1:\n",
    "                        obstacle_count += 1\n",
    "    return obstacle_count"
   ],
   "metadata": {
    "collapsed": false
   }
  },
  {
   "cell_type": "code",
   "execution_count": 3,
   "outputs": [],
   "source": [
    "from environment import RBF2dGymEnv\n",
    "from controller import RRTController\n",
    "from kernel import RRTKernelNormal, RBF2dEnvKernelNormal\n",
    "\n",
    "def evaluate(model_params, plot_sol=False):\n",
    "    env = RBF2dGymEnv(\n",
    "        use_lidar=False,\n",
    "        N_points=int(model_params[0]),\n",
    "        threshold=model_params[1],\n",
    "        rbf_gamma=model_params[2],\n",
    "        obs_low=-0.7,\n",
    "        obs_high=0.7,\n",
    "        grid_res=150,\n",
    "        grid_bd=1.2,\n",
    "        seed=1337\n",
    "    )\n",
    "    start = [-1, -1]\n",
    "    end = [1, 1]\n",
    "    controller = RRTController()\n",
    "    controller_kernel = RRTKernelNormal(start, end)\n",
    "    env_kernel = RBF2dEnvKernelNormal()\n",
    "    env_kernel.sample_prior()\n",
    "    controller_kernel.sample_prior()\n",
    "    try:\n",
    "        env.reset(env_kernel.value)\n",
    "    except AssertionError:\n",
    "        # print(\"Invalid config\", model_params)\n",
    "        pass\n",
    "    traj = controller.get_trajectory(env, controller_kernel)\n",
    "    if plot_sol:\n",
    "        plt.imshow(env.arena.occ_grid, origin='lower', extent=[-1.2, 1.2, -1.2, 1.2], cmap='gray_r', vmin=0, vmax=2)\n",
    "        if traj is not None:\n",
    "            plt.plot(traj[:, 0], traj[:, 1])\n",
    "        plt.show()\n",
    "    return evaluate_traj_length(traj), evaluate_env_free_space(env), evaluate_num_of_obstacles(env)"
   ],
   "metadata": {
    "collapsed": false
   }
  },
  {
   "cell_type": "code",
   "execution_count": 4,
   "outputs": [],
   "source": [
    "from ribs.archives import GridArchive\n",
    "\n",
    "archive = GridArchive(\n",
    "    [100, 10],\n",
    "    [(0.0, 100.0), (0, 100)]\n",
    ")"
   ],
   "metadata": {
    "collapsed": false
   }
  },
  {
   "cell_type": "code",
   "execution_count": 5,
   "outputs": [],
   "source": [
    "from ribs.emitters import GaussianEmitter\n",
    "\n",
    "emitters = [\n",
    "    GaussianEmitter(\n",
    "        archive,\n",
    "        np.array([10, 1.0, 30]),\n",
    "        1.0,\n",
    "        batch_size=25,\n",
    "    ) for _ in range(5)\n",
    "]"
   ],
   "metadata": {
    "collapsed": false
   }
  },
  {
   "cell_type": "code",
   "execution_count": 6,
   "outputs": [],
   "source": [
    "from ribs.optimizers import Optimizer\n",
    "\n",
    "optimizer = Optimizer(archive, emitters)"
   ],
   "metadata": {
    "collapsed": false
   }
  },
  {
   "cell_type": "code",
   "execution_count": 7,
   "outputs": [
    {
     "name": "stderr",
     "output_type": "stream",
     "text": [
      "100%|██████████| 10/10 [05:37<00:00, 33.76s/it]\n"
     ]
    }
   ],
   "source": [
    "import time\n",
    "\n",
    "from tqdm import tqdm\n",
    "\n",
    "start_time = time.time()\n",
    "total_itrs = 10\n",
    "\n",
    "for itr in tqdm(range(1, total_itrs + 1)):\n",
    "    sols = optimizer.ask()\n",
    "\n",
    "    objs, bcs = [], []\n",
    "    for model in sols:\n",
    "        obj, percent_empty, num_of_obstacles = evaluate(model)\n",
    "        objs.append(obj)\n",
    "        bcs.append([percent_empty, num_of_obstacles])\n",
    "\n",
    "    optimizer.tell(objs, bcs)\n",
    "\n",
    "    if itr % 25 == 0:\n",
    "        elapsed_time = time.time() - start_time\n",
    "        print(f\"> {itr} itrs completed after {elapsed_time:.2f} s\")\n",
    "        print(f\"  - Archive Size: {len(archive)}\")\n",
    "        print(f\"  - Max Score: {archive.stats.obj_max}\")\n"
   ],
   "metadata": {
    "collapsed": false
   }
  },
  {
   "cell_type": "code",
   "execution_count": 8,
   "outputs": [
    {
     "data": {
      "text/plain": "Text(0.5, 0, 'Percentage of free space')"
     },
     "execution_count": 8,
     "metadata": {},
     "output_type": "execute_result"
    },
    {
     "data": {
      "text/plain": "<Figure size 800x600 with 2 Axes>",
      "image/png": "[encoded data removed]"
     },
     "metadata": {},
     "output_type": "display_data"
    }
   ],
   "source": [
    "from ribs.visualize import grid_archive_heatmap\n",
    "\n",
    "plt.figure(figsize=(8, 6))\n",
    "grid_archive_heatmap(archive, vmin=-300, vmax=300)\n",
    "plt.ylabel(\"Number of Obstacles\")\n",
    "plt.xlabel(\"Percentage of free space\")"
   ],
   "metadata": {
    "collapsed": false
   }
  },
  {
   "cell_type": "code",
   "execution_count": 10,
   "outputs": [
    {
     "data": {
      "text/plain": "<Figure size 640x480 with 1 Axes>",
      "image/png": "[encoded data removed]"
     },
     "metadata": {},
     "output_type": "display_data"
    },
    {
     "name": "stdout",
     "output_type": "stream",
     "text": [
      "Elite(sol=array([ 9.85777881,  2.32234366, 28.74948464]), obj=2.798654207643597, beh=array([100.,   0.]), idx=(99, 0), meta=None)\n"
     ]
    }
   ],
   "source": [
    "elite = archive.elite_with_behavior([100, 0])\n",
    "evaluate(elite.sol, True)\n",
    "print(elite)"
   ],
   "metadata": {
    "collapsed": false
   }
  },
  {
   "cell_type": "code",
   "execution_count": 13,
   "outputs": [
    {
     "data": {
      "text/plain": "<Figure size 640x480 with 1 Axes>",
      "image/png": "[encoded data removed]"
     },
     "metadata": {},
     "output_type": "display_data"
    },
    {
     "name": "stdout",
     "output_type": "stream",
     "text": [
      "Elite(sol=array([11.29800106, -0.44684667, 30.21365461]), obj=10.0, beh=array([0., 0.]), idx=(0, 0), meta=None)\n"
     ]
    }
   ],
   "source": [
    "elite = archive.elite_with_behavior([0, 0])\n",
    "evaluate(elite.sol, True)\n",
    "print(elite)"
   ],
   "metadata": {
    "collapsed": false
   }
  },
  {
   "cell_type": "code",
   "execution_count": 20,
   "outputs": [
    {
     "data": {
      "text/plain": "<Figure size 640x480 with 1 Axes>",
      "image/png": "[encoded data removed]"
     },
     "metadata": {},
     "output_type": "display_data"
    },
    {
     "name": "stdout",
     "output_type": "stream",
     "text": [
      "Elite(sol=array([ 9.64229657,  1.98387823, 29.84277771]), obj=2.798654207643597, beh=array([ 99.48444444, 168.        ]), idx=(99, 9), meta=None)\n"
     ]
    }
   ],
   "source": [
    "elite = archive.elite_with_behavior([100, 100])\n",
    "evaluate(elite.sol, True)\n",
    "print(elite)"
   ],
   "metadata": {
    "collapsed": false
   }
  },
  {
   "cell_type": "code",
   "execution_count": 17,
   "outputs": [],
   "source": [],
   "metadata": {
    "collapsed": false
   }
  }
 ],
 "metadata": {
  "kernelspec": {
   "display_name": "Python 3",
   "language": "python",
   "name": "python3"
  },
  "language_info": {
   "codemirror_mode": {
    "name": "ipython",
    "version": 2
   },
   "file_extension": ".py",
   "mimetype": "text/x-python",
   "name": "python",
   "nbconvert_exporter": "python",
   "pygments_lexer": "ipython2",
   "version": "2.7.6"
  }
 },
 "nbformat": 4,
 "nbformat_minor": 0
}
